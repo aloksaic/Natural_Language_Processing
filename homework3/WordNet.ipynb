{
  "cells": [
    {
      "cell_type": "markdown",
      "source": [
        "Aloksai Choudari\n",
        "(axc190063)"
      ],
      "metadata": {
        "id": "Objs7m8TBvaO"
      }
    },
    {
      "cell_type": "markdown",
      "metadata": {
        "id": "aNIJnszzbGaV"
      },
      "source": [
        "# WordNet Summary\n",
        "\n",
        "Wordnet is a lexical database containing English nouns, verbs, adjectives, and adverbs, which are grouped into cognitive synonym sets (synsets), that each express a distinct concept. These synsets are interlinked by semantic and lexical relations. The structure of synonymy that WordNet has makes it a great tool for linguistics and NLP."
      ]
    },
    {
      "cell_type": "code",
      "execution_count": 78,
      "metadata": {
        "id": "0MgB2Lvha-g8"
      },
      "outputs": [],
      "source": [
        "import nltk\n",
        "from nltk.corpus import wordnet as wn\n",
        "from nltk.wsd import lesk\n",
        "from nltk.corpus import sentiwordnet as swn\n",
        "from nltk.book import text4\n",
        "import math"
      ]
    },
    {
      "cell_type": "code",
      "source": [
        "nltk.download('treebank')"
      ],
      "metadata": {
        "colab": {
          "base_uri": "https://localhost:8080/"
        },
        "id": "NB2LFkpZAacp",
        "outputId": "d73e9a9c-6f70-4bdd-f576-3fe8d3abb78e"
      },
      "execution_count": 72,
      "outputs": [
        {
          "output_type": "stream",
          "name": "stderr",
          "text": [
            "[nltk_data] Downloading package treebank to /root/nltk_data...\n",
            "[nltk_data]   Unzipping corpora/treebank.zip.\n"
          ]
        },
        {
          "output_type": "execute_result",
          "data": {
            "text/plain": [
              "True"
            ]
          },
          "metadata": {},
          "execution_count": 72
        }
      ]
    },
    {
      "cell_type": "code",
      "source": [
        "nltk.download('webtext')"
      ],
      "metadata": {
        "colab": {
          "base_uri": "https://localhost:8080/"
        },
        "id": "EHgdJtLzAV3b",
        "outputId": "155e2997-eeeb-458a-dfba-85a3b6415899"
      },
      "execution_count": 70,
      "outputs": [
        {
          "output_type": "stream",
          "name": "stderr",
          "text": [
            "[nltk_data] Downloading package webtext to /root/nltk_data...\n",
            "[nltk_data]   Unzipping corpora/webtext.zip.\n"
          ]
        },
        {
          "output_type": "execute_result",
          "data": {
            "text/plain": [
              "True"
            ]
          },
          "metadata": {},
          "execution_count": 70
        }
      ]
    },
    {
      "cell_type": "code",
      "source": [
        "nltk.download('nps_chat')"
      ],
      "metadata": {
        "colab": {
          "base_uri": "https://localhost:8080/"
        },
        "id": "rSeOJzmqARzf",
        "outputId": "5c262ab4-9ac3-4bac-87f1-9da1888e03d7"
      },
      "execution_count": 68,
      "outputs": [
        {
          "output_type": "stream",
          "name": "stderr",
          "text": [
            "[nltk_data] Downloading package nps_chat to /root/nltk_data...\n",
            "[nltk_data]   Unzipping corpora/nps_chat.zip.\n"
          ]
        },
        {
          "output_type": "execute_result",
          "data": {
            "text/plain": [
              "True"
            ]
          },
          "metadata": {},
          "execution_count": 68
        }
      ]
    },
    {
      "cell_type": "code",
      "execution_count": 4,
      "metadata": {
        "colab": {
          "base_uri": "https://localhost:8080/"
        },
        "id": "MlmT37h_g-lF",
        "outputId": "f7ba2a18-07bf-42a1-e281-f689ac2eaaf7"
      },
      "outputs": [
        {
          "output_type": "stream",
          "name": "stderr",
          "text": [
            "[nltk_data] Downloading package wordnet to /root/nltk_data...\n"
          ]
        },
        {
          "output_type": "execute_result",
          "data": {
            "text/plain": [
              "True"
            ]
          },
          "metadata": {},
          "execution_count": 4
        }
      ],
      "source": [
        "nltk.download('wordnet')"
      ]
    },
    {
      "cell_type": "code",
      "execution_count": 5,
      "metadata": {
        "colab": {
          "base_uri": "https://localhost:8080/"
        },
        "id": "SFHGiyYqaZ4f",
        "outputId": "21752da3-d7b0-4d12-f578-e7d05cf93fc1"
      },
      "outputs": [
        {
          "output_type": "stream",
          "name": "stderr",
          "text": [
            "[nltk_data] Downloading package omw-1.4 to /root/nltk_data...\n"
          ]
        },
        {
          "output_type": "execute_result",
          "data": {
            "text/plain": [
              "True"
            ]
          },
          "metadata": {},
          "execution_count": 5
        }
      ],
      "source": [
        "nltk.download('omw-1.4')"
      ]
    },
    {
      "cell_type": "code",
      "execution_count": 6,
      "metadata": {
        "id": "lCR0aKJ_aTNc",
        "colab": {
          "base_uri": "https://localhost:8080/"
        },
        "outputId": "8453a224-a3c4-4db2-d0c9-41ee2a24a81f"
      },
      "outputs": [
        {
          "output_type": "execute_result",
          "data": {
            "text/plain": [
              "[Synset('home.n.01'),\n",
              " Synset('dwelling.n.01'),\n",
              " Synset('home.n.03'),\n",
              " Synset('home_plate.n.01'),\n",
              " Synset('base.n.14'),\n",
              " Synset('home.n.06'),\n",
              " Synset('home.n.07'),\n",
              " Synset('family.n.01'),\n",
              " Synset('home.n.09'),\n",
              " Synset('home.v.01'),\n",
              " Synset('home.v.02'),\n",
              " Synset('home.a.01'),\n",
              " Synset('home.a.02'),\n",
              " Synset('home.s.03'),\n",
              " Synset('home.r.01'),\n",
              " Synset('home.r.02'),\n",
              " Synset('home.r.03')]"
            ]
          },
          "metadata": {},
          "execution_count": 6
        }
      ],
      "source": [
        "wn.synsets('home')"
      ]
    },
    {
      "cell_type": "code",
      "execution_count": 7,
      "metadata": {
        "id": "lHpvTv5_be9r",
        "colab": {
          "base_uri": "https://localhost:8080/",
          "height": 35
        },
        "outputId": "a819ebda-de46-4402-b25e-88c42527d579"
      },
      "outputs": [
        {
          "output_type": "execute_result",
          "data": {
            "text/plain": [
              "'where you live at a particular time'"
            ],
            "application/vnd.google.colaboratory.intrinsic+json": {
              "type": "string"
            }
          },
          "metadata": {},
          "execution_count": 7
        }
      ],
      "source": [
        "home = wn.synset('home.n.01')\n",
        "home.definition()"
      ]
    },
    {
      "cell_type": "code",
      "execution_count": 8,
      "metadata": {
        "id": "1veUw7cXbpVe",
        "colab": {
          "base_uri": "https://localhost:8080/"
        },
        "outputId": "44744d0e-33be-4d87-bce3-987190d5cad5"
      },
      "outputs": [
        {
          "output_type": "execute_result",
          "data": {
            "text/plain": [
              "['deliver the package to my home',\n",
              " \"he doesn't have a home to go to\",\n",
              " 'your place or mine?']"
            ]
          },
          "metadata": {},
          "execution_count": 8
        }
      ],
      "source": [
        "home.examples()"
      ]
    },
    {
      "cell_type": "code",
      "execution_count": 9,
      "metadata": {
        "id": "fl7BlT3Xb10K",
        "colab": {
          "base_uri": "https://localhost:8080/"
        },
        "outputId": "804d5f88-56cc-4f4a-ebe6-9093819c784b"
      },
      "outputs": [
        {
          "output_type": "execute_result",
          "data": {
            "text/plain": [
              "[Lemma('home.n.01.home'), Lemma('home.n.01.place')]"
            ]
          },
          "metadata": {},
          "execution_count": 9
        }
      ],
      "source": [
        "home.lemmas()"
      ]
    },
    {
      "cell_type": "code",
      "execution_count": 10,
      "metadata": {
        "colab": {
          "base_uri": "https://localhost:8080/"
        },
        "id": "lZtL2dr1b4sx",
        "outputId": "a1cd2d5f-13f8-4515-b65e-72346c1bab8e"
      },
      "outputs": [
        {
          "output_type": "stream",
          "name": "stdout",
          "text": [
            "Synset('residence.n.01')\n",
            "Synset('address.n.02')\n",
            "Synset('geographic_point.n.01')\n",
            "Synset('point.n.02')\n",
            "Synset('location.n.01')\n",
            "Synset('object.n.01')\n",
            "Synset('physical_entity.n.01')\n",
            "Synset('entity.n.01')\n"
          ]
        }
      ],
      "source": [
        "hyp = home.hypernyms()[0]\n",
        "top = wn.synset('entity.n.01')\n",
        "while hyp:\n",
        "    print(hyp)\n",
        "    if hyp == top:\n",
        "        break\n",
        "    if hyp.hypernyms():\n",
        "        hyp = hyp.hypernyms()[0]"
      ]
    },
    {
      "cell_type": "markdown",
      "metadata": {
        "id": "s8jATowlcW_U"
      },
      "source": [
        "For nouns, WordNet has a heirarchy that is organized till 'entity'. I used the word 'home' in comparison to this."
      ]
    },
    {
      "cell_type": "code",
      "execution_count": 11,
      "metadata": {
        "id": "PTKb5YfLuxrT",
        "colab": {
          "base_uri": "https://localhost:8080/"
        },
        "outputId": "db5567d2-030a-459d-de52-2316c98545e0"
      },
      "outputs": [
        {
          "output_type": "execute_result",
          "data": {
            "text/plain": [
              "[]"
            ]
          },
          "metadata": {},
          "execution_count": 11
        }
      ],
      "source": [
        "home.lemmas()[0].hypernyms()"
      ]
    },
    {
      "cell_type": "code",
      "execution_count": 12,
      "metadata": {
        "id": "qOqoyKyN7QjN",
        "colab": {
          "base_uri": "https://localhost:8080/"
        },
        "outputId": "e808cd65-df37-4a45-f67e-cb593bb25416"
      },
      "outputs": [
        {
          "output_type": "execute_result",
          "data": {
            "text/plain": [
              "[]"
            ]
          },
          "metadata": {},
          "execution_count": 12
        }
      ],
      "source": [
        "home.lemmas()[0].antonyms()"
      ]
    },
    {
      "cell_type": "code",
      "execution_count": 13,
      "metadata": {
        "id": "TYU3i4ex7RgJ",
        "colab": {
          "base_uri": "https://localhost:8080/"
        },
        "outputId": "ede50f6d-7dee-4e36-b1e4-8a47af9e7da1"
      },
      "outputs": [
        {
          "output_type": "execute_result",
          "data": {
            "text/plain": [
              "[]"
            ]
          },
          "metadata": {},
          "execution_count": 13
        }
      ],
      "source": [
        "home.lemmas()[0].hyponyms()"
      ]
    },
    {
      "cell_type": "code",
      "execution_count": 14,
      "metadata": {
        "id": "IKa-GTXP7VMk",
        "colab": {
          "base_uri": "https://localhost:8080/"
        },
        "outputId": "5c1ad653-4c3d-4ae5-b8a7-f575331f03a7"
      },
      "outputs": [
        {
          "output_type": "execute_result",
          "data": {
            "text/plain": [
              "[]"
            ]
          },
          "metadata": {},
          "execution_count": 14
        }
      ],
      "source": [
        "home.lemmas()[0].part_holonyms()"
      ]
    },
    {
      "cell_type": "code",
      "execution_count": 15,
      "metadata": {
        "id": "Ch7W_TJx9gID",
        "colab": {
          "base_uri": "https://localhost:8080/"
        },
        "outputId": "6b810665-97c7-4d07-c120-7426f83e2d4b"
      },
      "outputs": [
        {
          "output_type": "execute_result",
          "data": {
            "text/plain": [
              "[]"
            ]
          },
          "metadata": {},
          "execution_count": 15
        }
      ],
      "source": [
        "home.lemmas()[0].part_meronyms()"
      ]
    },
    {
      "cell_type": "code",
      "execution_count": 16,
      "metadata": {
        "id": "SXhbih679o9I",
        "colab": {
          "base_uri": "https://localhost:8080/"
        },
        "outputId": "20b0b6ae-26c9-4a1e-f101-6ab6ef751736"
      },
      "outputs": [
        {
          "output_type": "execute_result",
          "data": {
            "text/plain": [
              "[Synset('change.n.01'),\n",
              " Synset('change.n.02'),\n",
              " Synset('change.n.03'),\n",
              " Synset('change.n.04'),\n",
              " Synset('change.n.05'),\n",
              " Synset('change.n.06'),\n",
              " Synset('change.n.07'),\n",
              " Synset('change.n.08'),\n",
              " Synset('change.n.09'),\n",
              " Synset('variety.n.06'),\n",
              " Synset('change.v.01'),\n",
              " Synset('change.v.02'),\n",
              " Synset('change.v.03'),\n",
              " Synset('switch.v.03'),\n",
              " Synset('change.v.05'),\n",
              " Synset('change.v.06'),\n",
              " Synset('exchange.v.01'),\n",
              " Synset('transfer.v.06'),\n",
              " Synset('deepen.v.04'),\n",
              " Synset('change.v.10')]"
            ]
          },
          "metadata": {},
          "execution_count": 16
        }
      ],
      "source": [
        "wn.synsets('change')"
      ]
    },
    {
      "cell_type": "code",
      "execution_count": 26,
      "metadata": {
        "id": "GE9_QIlP97sX",
        "colab": {
          "base_uri": "https://localhost:8080/",
          "height": 35
        },
        "outputId": "15b5a7cb-a168-4455-c9c4-a970cf06a452"
      },
      "outputs": [
        {
          "output_type": "execute_result",
          "data": {
            "text/plain": [
              "'cause to change; make different; cause a transformation'"
            ],
            "application/vnd.google.colaboratory.intrinsic+json": {
              "type": "string"
            }
          },
          "metadata": {},
          "execution_count": 26
        }
      ],
      "source": [
        "change = wn.synset('change.v.01')\n",
        "change.definition()"
      ]
    },
    {
      "cell_type": "code",
      "execution_count": 27,
      "metadata": {
        "id": "2TbOW7m--PoX",
        "colab": {
          "base_uri": "https://localhost:8080/"
        },
        "outputId": "f34263ee-de47-45f7-95fe-3127b788c8a8"
      },
      "outputs": [
        {
          "output_type": "execute_result",
          "data": {
            "text/plain": [
              "['The advent of the automobile may have altered the growth pattern of the city',\n",
              " 'The discussion has changed my thinking about the issue']"
            ]
          },
          "metadata": {},
          "execution_count": 27
        }
      ],
      "source": [
        "change.examples()"
      ]
    },
    {
      "cell_type": "code",
      "execution_count": 28,
      "metadata": {
        "id": "Gu2W-4bL-dSk",
        "colab": {
          "base_uri": "https://localhost:8080/"
        },
        "outputId": "19053a06-868e-4a48-bb3c-1c6b266d4ef2"
      },
      "outputs": [
        {
          "output_type": "execute_result",
          "data": {
            "text/plain": [
              "[Lemma('change.v.01.change'),\n",
              " Lemma('change.v.01.alter'),\n",
              " Lemma('change.v.01.modify')]"
            ]
          },
          "metadata": {},
          "execution_count": 28
        }
      ],
      "source": [
        "change.lemmas()"
      ]
    },
    {
      "cell_type": "code",
      "execution_count": 40,
      "metadata": {
        "id": "fpb-ZWr0-iT_",
        "colab": {
          "base_uri": "https://localhost:8080/",
          "height": 232
        },
        "outputId": "1849b790-1909-4906-b8b8-49fd88ada47e"
      },
      "outputs": [
        {
          "output_type": "error",
          "ename": "IndexError",
          "evalue": "ignored",
          "traceback": [
            "\u001b[0;31m---------------------------------------------------------------------------\u001b[0m",
            "\u001b[0;31mIndexError\u001b[0m                                Traceback (most recent call last)",
            "\u001b[0;32m<ipython-input-40-05c3b0cbd70b>\u001b[0m in \u001b[0;36m<module>\u001b[0;34m\u001b[0m\n\u001b[0;32m----> 1\u001b[0;31m \u001b[0mhyp\u001b[0m \u001b[0;34m=\u001b[0m \u001b[0mchange\u001b[0m\u001b[0;34m.\u001b[0m\u001b[0mhypernyms\u001b[0m\u001b[0;34m(\u001b[0m\u001b[0;34m)\u001b[0m\u001b[0;34m[\u001b[0m\u001b[0;36m0\u001b[0m\u001b[0;34m]\u001b[0m\u001b[0;34m\u001b[0m\u001b[0;34m\u001b[0m\u001b[0m\n\u001b[0m\u001b[1;32m      2\u001b[0m \u001b[0mtop\u001b[0m \u001b[0;34m=\u001b[0m \u001b[0mwn\u001b[0m\u001b[0;34m.\u001b[0m\u001b[0msynset\u001b[0m\u001b[0;34m(\u001b[0m\u001b[0;34m'breathe.v.01'\u001b[0m\u001b[0;34m)\u001b[0m\u001b[0;34m\u001b[0m\u001b[0;34m\u001b[0m\u001b[0m\n\u001b[1;32m      3\u001b[0m \u001b[0;32mwhile\u001b[0m \u001b[0mhyp\u001b[0m\u001b[0;34m:\u001b[0m\u001b[0;34m\u001b[0m\u001b[0;34m\u001b[0m\u001b[0m\n\u001b[1;32m      4\u001b[0m     \u001b[0mprint\u001b[0m\u001b[0;34m(\u001b[0m\u001b[0mhyp\u001b[0m\u001b[0;34m)\u001b[0m\u001b[0;34m\u001b[0m\u001b[0;34m\u001b[0m\u001b[0m\n\u001b[1;32m      5\u001b[0m     \u001b[0;32mif\u001b[0m \u001b[0mhyp\u001b[0m \u001b[0;34m==\u001b[0m \u001b[0mtop\u001b[0m\u001b[0;34m:\u001b[0m\u001b[0;34m\u001b[0m\u001b[0;34m\u001b[0m\u001b[0m\n",
            "\u001b[0;31mIndexError\u001b[0m: list index out of range"
          ]
        }
      ],
      "source": [
        "hyp = change.hypernyms()[0]\n",
        "top = wn.synset('breathe.v.01')\n",
        "while hyp:\n",
        "    print(hyp)\n",
        "    if hyp == top:\n",
        "        break\n",
        "    if hyp.hypernyms():\n",
        "        hyp = hyp.hypernyms()[0]"
      ]
    },
    {
      "cell_type": "markdown",
      "source": [
        "For verbs, the WordNet heirarchy is organized till 'breathe'. I tried to find the hypernyms for the word I used, 'change', but I was unable to get it list out the proper synsets for this."
      ],
      "metadata": {
        "id": "85Yr_g18tJ9Y"
      }
    },
    {
      "cell_type": "code",
      "source": [
        "wn.morphy('change', wn.VERB)"
      ],
      "metadata": {
        "colab": {
          "base_uri": "https://localhost:8080/",
          "height": 35
        },
        "id": "rPp3Y71ufou8",
        "outputId": "834acbf7-e88d-41f1-bf7c-730db8af0cb6"
      },
      "execution_count": 35,
      "outputs": [
        {
          "output_type": "execute_result",
          "data": {
            "text/plain": [
              "'change'"
            ],
            "application/vnd.google.colaboratory.intrinsic+json": {
              "type": "string"
            }
          },
          "metadata": {},
          "execution_count": 35
        }
      ]
    },
    {
      "cell_type": "code",
      "source": [
        "love = wn.synset('love.v.01')\n",
        "care = wn.synset('care.v.01')\n",
        "wn.path_similarity(love, care)"
      ],
      "metadata": {
        "colab": {
          "base_uri": "https://localhost:8080/"
        },
        "id": "RpmunNLVteSq",
        "outputId": "2fc4d930-21c0-4432-d142-6b26551efaf0"
      },
      "execution_count": 41,
      "outputs": [
        {
          "output_type": "execute_result",
          "data": {
            "text/plain": [
              "0.14285714285714285"
            ]
          },
          "metadata": {},
          "execution_count": 41
        }
      ]
    },
    {
      "cell_type": "code",
      "source": [
        "for ss in wn.synsets('love'):\n",
        "    print(ss, ss.definition())"
      ],
      "metadata": {
        "colab": {
          "base_uri": "https://localhost:8080/"
        },
        "id": "N4_XhOct5gaf",
        "outputId": "66561f69-c36e-41ab-90ec-0d488505410c"
      },
      "execution_count": 43,
      "outputs": [
        {
          "output_type": "stream",
          "name": "stdout",
          "text": [
            "Synset('love.n.01') a strong positive emotion of regard and affection\n",
            "Synset('love.n.02') any object of warm affection or devotion\n",
            "Synset('beloved.n.01') a beloved person; used as terms of endearment\n",
            "Synset('love.n.04') a deep feeling of sexual desire and attraction\n",
            "Synset('love.n.05') a score of zero in tennis or squash\n",
            "Synset('sexual_love.n.02') sexual activities (often including sexual intercourse) between two people\n",
            "Synset('love.v.01') have a great affection or liking for\n",
            "Synset('love.v.02') get pleasure from\n",
            "Synset('love.v.03') be enamored or in love with\n",
            "Synset('sleep_together.v.01') have sexual intercourse with\n"
          ]
        }
      ]
    },
    {
      "cell_type": "code",
      "source": [
        "sent = ['I', 'need', 'to', 'learn', 'to', 'love', 'myself', '.']\n",
        "print(lesk(sent, 'love'))"
      ],
      "metadata": {
        "colab": {
          "base_uri": "https://localhost:8080/"
        },
        "id": "HeSTxjPx7nRW",
        "outputId": "1288d9c4-475a-49eb-9b71-3cc24962bcf8"
      },
      "execution_count": 44,
      "outputs": [
        {
          "output_type": "stream",
          "name": "stdout",
          "text": [
            "Synset('love.v.03')\n"
          ]
        }
      ]
    },
    {
      "cell_type": "markdown",
      "source": [
        "For the Wu-Palmer similarity, I noticed that the words 'love' and 'care', surprisingly, have a low similarity rate. Using the lesk algorithm, I found out the correct use of the word 'love' in the sentence I had used."
      ],
      "metadata": {
        "id": "Z6ym7k0h71Oi"
      }
    },
    {
      "cell_type": "markdown",
      "source": [
        "SentiWordNet is a lexical resource that is built on top of WordNet, and is used for positivity, negativity, and objectivity mining. It provides readily available information for the English language about sentiments of words using polarity."
      ],
      "metadata": {
        "id": "8eYsuCFF76iq"
      }
    },
    {
      "cell_type": "code",
      "source": [
        "nltk.download('sentiwordnet')"
      ],
      "metadata": {
        "colab": {
          "base_uri": "https://localhost:8080/"
        },
        "id": "wMC0ZJoF9tKq",
        "outputId": "84d50f6b-5912-49ed-f012-8d86cf1414c8"
      },
      "execution_count": 49,
      "outputs": [
        {
          "output_type": "stream",
          "name": "stderr",
          "text": [
            "[nltk_data] Downloading package sentiwordnet to /root/nltk_data...\n",
            "[nltk_data]   Unzipping corpora/sentiwordnet.zip.\n"
          ]
        },
        {
          "output_type": "execute_result",
          "data": {
            "text/plain": [
              "True"
            ]
          },
          "metadata": {},
          "execution_count": 49
        }
      ]
    },
    {
      "cell_type": "code",
      "source": [
        "happy = swn.senti_synset('happy.a.01')\n",
        "print(happy)\n",
        "print(\"Positive score = \", happy.pos_score())\n",
        "print(\"Negative score = \", happy.neg_score())\n",
        "print(\"Objective score = \", happy.obj_score())"
      ],
      "metadata": {
        "colab": {
          "base_uri": "https://localhost:8080/"
        },
        "id": "naFeTArB72Gj",
        "outputId": "8696563e-7cd3-4731-a5ef-230084f08c18"
      },
      "execution_count": 50,
      "outputs": [
        {
          "output_type": "stream",
          "name": "stdout",
          "text": [
            "<happy.a.01: PosScore=0.875 NegScore=0.0>\n",
            "Positive score =  0.875\n",
            "Negative score =  0.0\n",
            "Objective score =  0.125\n"
          ]
        }
      ]
    },
    {
      "cell_type": "code",
      "source": [
        "for word in sent:\n",
        "    senti_list = list(swn.senti_synsets(word))\n",
        "    for item in senti_list:\n",
        "        print(item)"
      ],
      "metadata": {
        "colab": {
          "base_uri": "https://localhost:8080/"
        },
        "id": "0cRxa0Um-Udy",
        "outputId": "8970d971-7e62-4dfd-919a-ee7ab37f4cab"
      },
      "execution_count": 54,
      "outputs": [
        {
          "output_type": "stream",
          "name": "stdout",
          "text": [
            "<iodine.n.01: PosScore=0.0 NegScore=0.0>\n",
            "<one.n.01: PosScore=0.0 NegScore=0.0>\n",
            "<i.n.03: PosScore=0.0 NegScore=0.0>\n",
            "<one.s.01: PosScore=0.0 NegScore=0.25>\n",
            "<need.n.01: PosScore=0.125 NegScore=0.125>\n",
            "<need.n.02: PosScore=0.375 NegScore=0.25>\n",
            "<motivation.n.01: PosScore=0.0 NegScore=0.0>\n",
            "<indigence.n.01: PosScore=0.0 NegScore=0.375>\n",
            "<necessitate.v.01: PosScore=0.25 NegScore=0.25>\n",
            "<want.v.02: PosScore=0.125 NegScore=0.125>\n",
            "<need.v.03: PosScore=0.0 NegScore=0.25>\n",
            "<learn.v.01: PosScore=0.0 NegScore=0.0>\n",
            "<learn.v.02: PosScore=0.0 NegScore=0.0>\n",
            "<memorize.v.01: PosScore=0.0 NegScore=0.0>\n",
            "<learn.v.04: PosScore=0.0 NegScore=0.0>\n",
            "<teach.v.01: PosScore=0.5 NegScore=0.0>\n",
            "<determine.v.08: PosScore=0.0 NegScore=0.125>\n",
            "<love.n.01: PosScore=0.625 NegScore=0.0>\n",
            "<love.n.02: PosScore=0.375 NegScore=0.0>\n",
            "<beloved.n.01: PosScore=0.125 NegScore=0.0>\n",
            "<love.n.04: PosScore=0.25 NegScore=0.0>\n",
            "<love.n.05: PosScore=0.0 NegScore=0.0>\n",
            "<sexual_love.n.02: PosScore=0.0 NegScore=0.0>\n",
            "<love.v.01: PosScore=0.5 NegScore=0.0>\n",
            "<love.v.02: PosScore=1.0 NegScore=0.0>\n",
            "<love.v.03: PosScore=0.625 NegScore=0.0>\n",
            "<sleep_together.v.01: PosScore=0.375 NegScore=0.125>\n"
          ]
        }
      ]
    },
    {
      "cell_type": "markdown",
      "source": [
        "The scores for the words in my sentence were primarily positive, and this information can be used in an NLP application for mining the sentiment of a language. "
      ],
      "metadata": {
        "id": "NTM0UQhh_Ek_"
      }
    },
    {
      "cell_type": "markdown",
      "source": [
        "Collocations are phrases and words that are more likely to co-occur in usage. They can be expressions that are frequently occurring."
      ],
      "metadata": {
        "id": "mX4TKzu0_PUh"
      }
    },
    {
      "cell_type": "code",
      "source": [
        "nltk.download('gutenberg')"
      ],
      "metadata": {
        "colab": {
          "base_uri": "https://localhost:8080/"
        },
        "id": "hGra8sOn_P1z",
        "outputId": "d4f4113b-58e9-4989-b056-d9f1f6fdf110"
      },
      "execution_count": 61,
      "outputs": [
        {
          "output_type": "stream",
          "name": "stderr",
          "text": [
            "[nltk_data] Downloading package gutenberg to /root/nltk_data...\n",
            "[nltk_data]   Unzipping corpora/gutenberg.zip.\n"
          ]
        },
        {
          "output_type": "execute_result",
          "data": {
            "text/plain": [
              "True"
            ]
          },
          "metadata": {},
          "execution_count": 61
        }
      ]
    },
    {
      "cell_type": "code",
      "source": [
        "nltk.download('genesis')"
      ],
      "metadata": {
        "colab": {
          "base_uri": "https://localhost:8080/"
        },
        "id": "3TGBJaJBAFhz",
        "outputId": "665622ff-a5a8-4d58-f41d-41b1d4be6e80"
      },
      "execution_count": 63,
      "outputs": [
        {
          "output_type": "stream",
          "name": "stderr",
          "text": [
            "[nltk_data] Downloading package genesis to /root/nltk_data...\n",
            "[nltk_data]   Unzipping corpora/genesis.zip.\n"
          ]
        },
        {
          "output_type": "execute_result",
          "data": {
            "text/plain": [
              "True"
            ]
          },
          "metadata": {},
          "execution_count": 63
        }
      ]
    },
    {
      "cell_type": "code",
      "source": [
        "nltk.download('inaugural')"
      ],
      "metadata": {
        "colab": {
          "base_uri": "https://localhost:8080/"
        },
        "id": "ig8WE-jNAKvc",
        "outputId": "b68ae02e-0ec9-4f71-b570-4a0ef059be89"
      },
      "execution_count": 65,
      "outputs": [
        {
          "output_type": "stream",
          "name": "stderr",
          "text": [
            "[nltk_data] Downloading package inaugural to /root/nltk_data...\n",
            "[nltk_data]   Unzipping corpora/inaugural.zip.\n"
          ]
        },
        {
          "output_type": "execute_result",
          "data": {
            "text/plain": [
              "True"
            ]
          },
          "metadata": {},
          "execution_count": 65
        }
      ]
    },
    {
      "cell_type": "code",
      "source": [
        "nltk.download('stopwords')"
      ],
      "metadata": {
        "colab": {
          "base_uri": "https://localhost:8080/"
        },
        "id": "Yvq1vbCdAxCM",
        "outputId": "17412e52-2251-492d-d06a-aa8a29656137"
      },
      "execution_count": 75,
      "outputs": [
        {
          "output_type": "stream",
          "name": "stderr",
          "text": [
            "[nltk_data] Downloading package stopwords to /root/nltk_data...\n",
            "[nltk_data]   Unzipping corpora/stopwords.zip.\n"
          ]
        },
        {
          "output_type": "execute_result",
          "data": {
            "text/plain": [
              "True"
            ]
          },
          "metadata": {},
          "execution_count": 75
        }
      ]
    },
    {
      "cell_type": "code",
      "source": [
        "text4.collocations()"
      ],
      "metadata": {
        "colab": {
          "base_uri": "https://localhost:8080/"
        },
        "id": "ZGbRbDQ9AhaM",
        "outputId": "395a59fd-f3d8-4cb9-ca19-ba737ad401cb"
      },
      "execution_count": 76,
      "outputs": [
        {
          "output_type": "stream",
          "name": "stdout",
          "text": [
            "United States; fellow citizens; years ago; four years; Federal\n",
            "Government; General Government; American people; Vice President; God\n",
            "bless; Chief Justice; one another; fellow Americans; Old World;\n",
            "Almighty God; Fellow citizens; Chief Magistrate; every citizen; Indian\n",
            "tribes; public debt; foreign nations\n"
          ]
        }
      ]
    },
    {
      "cell_type": "code",
      "source": [
        "text = ' '.join(text4.tokens)\n",
        "text[:50]"
      ],
      "metadata": {
        "colab": {
          "base_uri": "https://localhost:8080/",
          "height": 35
        },
        "id": "A9I7QNxhBGc0",
        "outputId": "c283da1a-07bf-438b-ddc3-899e44dc3041"
      },
      "execution_count": 77,
      "outputs": [
        {
          "output_type": "execute_result",
          "data": {
            "text/plain": [
              "'Fellow - Citizens of the Senate and of the House o'"
            ],
            "application/vnd.google.colaboratory.intrinsic+json": {
              "type": "string"
            }
          },
          "metadata": {},
          "execution_count": 77
        }
      ]
    },
    {
      "cell_type": "code",
      "source": [
        "vocab = len(set(text4))\n",
        "hg = text.count('United States')/vocab\n",
        "print(\"p(United States) = \",hg )\n",
        "h = text.count('United')/vocab\n",
        "print(\"p(United) = \", h)\n",
        "g = text.count('States')/vocab\n",
        "print('p(States) = ', g)\n",
        "pmi = math.log2(hg / (h * g))\n",
        "print('pmi = ', pmi)"
      ],
      "metadata": {
        "colab": {
          "base_uri": "https://localhost:8080/"
        },
        "id": "oUFenBBEBJ4n",
        "outputId": "1b35aab9-a958-441a-b5b8-88177ff1d5fd"
      },
      "execution_count": 79,
      "outputs": [
        {
          "output_type": "stream",
          "name": "stdout",
          "text": [
            "p(United States) =  0.015860349127182045\n",
            "p(United) =  0.0170573566084788\n",
            "p(States) =  0.03301745635910224\n",
            "pmi =  4.815657649820885\n"
          ]
        }
      ]
    }
  ],
  "metadata": {
    "colab": {
      "provenance": []
    },
    "kernelspec": {
      "display_name": "Python 3",
      "name": "python3"
    },
    "language_info": {
      "name": "python"
    }
  },
  "nbformat": 4,
  "nbformat_minor": 0
}